{
 "cells": [
  {
   "cell_type": "code",
   "execution_count": 1,
   "metadata": {},
   "outputs": [],
   "source": [
    "import torch\n",
    "import numpy as np"
   ]
  },
  {
   "cell_type": "code",
   "execution_count": 2,
   "metadata": {},
   "outputs": [],
   "source": [
    "from torchvision import datasets, transforms\n",
    "from torchvision.transforms import InterpolationMode\n",
    "mean, std = (0.4914, 0.4822, 0.4465), (0.247, 0.243, 0.262)\n",
    "transform_train_proper = transforms.Compose([\n",
    "        transforms.ToTensor(),\n",
    "        transforms.Normalize(mean, std),\n",
    "        ])\n",
    "transform_blurred = transforms.Compose([\n",
    "    transforms.ToTensor(), \n",
    "    transforms.Resize(8, interpolation=InterpolationMode.BILINEAR, antialias=None), \n",
    "    transforms.Resize(32, interpolation=InterpolationMode.BILINEAR, antialias=None),\n",
    "    transforms.Normalize(mean, std)\n",
    "    ])"
   ]
  },
  {
   "cell_type": "code",
   "execution_count": 3,
   "metadata": {},
   "outputs": [],
   "source": [
    "from src.utils.common import DATASET_NAME_MAP\n",
    "DATASET_NAME = 'cifar10'\n",
    "\n",
    "def get_held_out_data(dataset_name, nb_samples_per_class=50):\n",
    "    train_dataset, _, _ = DATASET_NAME_MAP[dataset_name]()\n",
    "    x_data = np.array(train_dataset.data)\n",
    "    y_data = np.array(train_dataset.targets)\n",
    "    num_classes = len(np.unique(y_data))\n",
    "    idxs = []\n",
    "    for i in range(num_classes):\n",
    "        idxs_i = np.where(y_data == i)[0]\n",
    "        sampled_idxs_i = np.random.choice(idxs_i, size=nb_samples_per_class, replace=False)\n",
    "        idxs.append(sampled_idxs_i)\n",
    "        \n",
    "    idxs = np.concatenate(idxs)\n",
    "    x_data = train_dataset.data[idxs]\n",
    "    y_data = y_data[idxs]\n",
    "    \n",
    "    np.save(f'data/{dataset_name}_held_out_x.npy', x_data)\n",
    "    np.save(f'data/{dataset_name}_held_out_y.npy', y_data)\n",
    "    return x_data, y_data"
   ]
  },
  {
   "cell_type": "code",
   "execution_count": 4,
   "metadata": {},
   "outputs": [
    {
     "name": "stdout",
     "output_type": "stream",
     "text": [
      "Files already downloaded and verified\n",
      "Files already downloaded and verified\n",
      "Files already downloaded and verified\n"
     ]
    }
   ],
   "source": [
    "x_data, y_data = get_held_out_data(DATASET_NAME, nb_samples_per_class=100)"
   ]
  },
  {
   "cell_type": "code",
   "execution_count": 5,
   "metadata": {},
   "outputs": [],
   "source": [
    "x_data_proper = [transform_train_proper(x) for x in x_data]\n",
    "x_data_proper = torch.stack(x_data_proper)\n",
    "y_data_proper = torch.from_numpy(y_data)\n",
    "\n",
    "# torch.save(x_data_proper, f'data/{DATASET_NAME}_held_out_proper_x.pt')\n",
    "# torch.save(y_data_proper, f'data/{DATASET_NAME}_held_out_proper_y.pt')"
   ]
  },
  {
   "cell_type": "code",
   "execution_count": 13,
   "metadata": {},
   "outputs": [],
   "source": [
    "x_data_blurred = [transform_blurred(x) for x in x_data]\n",
    "x_data_blurred = torch.stack(x_data_blurred)\n",
    "y_data_blurred = torch.from_numpy(y_data)\n",
    "\n",
    "torch.save(x_data_blurred, f'data/{DATASET_NAME}_held_out_blurred_x.pt')\n",
    "torch.save(y_data_blurred, f'data/{DATASET_NAME}_held_out_blurred_y.pt')"
   ]
  },
  {
   "cell_type": "code",
   "execution_count": 14,
   "metadata": {},
   "outputs": [
    {
     "name": "stdout",
     "output_type": "stream",
     "text": [
      "Files already downloaded and verified\n",
      "Files already downloaded and verified\n",
      "Files already downloaded and verified\n"
     ]
    }
   ],
   "source": [
    "from src.utils.prepare import prepare_loaders\n",
    "batch_size = 500\n",
    "loaders_params = {'batch_size': batch_size, 'pin_memory': True, 'num_workers': 8}\n",
    "loaders = prepare_loaders(DATASET_NAME, {}, loaders_params)"
   ]
  },
  {
   "cell_type": "code",
   "execution_count": null,
   "metadata": {},
   "outputs": [],
   "source": [
    "x, y = next(iter(loaders['train']))"
   ]
  },
  {
   "cell_type": "code",
   "execution_count": null,
   "metadata": {},
   "outputs": [],
   "source": [
    "import matplotlib.pyplot as plt\n",
    "plt.hist(y.cpu().numpy())"
   ]
  },
  {
   "attachments": {},
   "cell_type": "markdown",
   "metadata": {},
   "source": [
    "# Clustering"
   ]
  },
  {
   "cell_type": "code",
   "execution_count": 6,
   "metadata": {},
   "outputs": [],
   "source": [
    "x_data = x_data_proper.reshape(x_data_proper.size(0), -1)\n",
    "x_data /= x_data.norm(dim=1, keepdim=True)\n",
    "sim_m = x_data @ x_data.T"
   ]
  },
  {
   "cell_type": "code",
   "execution_count": 7,
   "metadata": {},
   "outputs": [],
   "source": [
    "def retrieve_info(cluster_labels, y_train):\n",
    "    # Initializing\n",
    "    unsolicited_ratio = 0.0\n",
    "    denominator = 0.0\n",
    "    reference_labels = {}\n",
    "    # For loop to run through each label of cluster label\n",
    "    for label in range(len(np.unique(y_train))):\n",
    "        index = np.where(cluster_labels==label, 1, 0)\n",
    "        dist = np.bincount(y_train[index==1])\n",
    "        num = dist.argmax()\n",
    "        unsolicited_ratio += (dist.sum() - dist.max())\n",
    "        denominator += dist.sum()\n",
    "        reference_labels[label] = num\n",
    "    proper_labels = [reference_labels[label] for label in cluster_labels]\n",
    "    proper_labels = np.array(proper_labels)\n",
    "    unsolicited_ratio /= denominator\n",
    "    return proper_labels, unsolicited_ratio"
   ]
  },
  {
   "cell_type": "code",
   "execution_count": 8,
   "metadata": {},
   "outputs": [
    {
     "data": {
      "text/plain": [
       "tensor([[ 1.0000,  0.1775,  0.4387,  ...,  0.1344,  0.4152,  0.1767],\n",
       "        [ 0.1775,  1.0000,  0.3079,  ...,  0.1010,  0.1005,  0.0557],\n",
       "        [ 0.4387,  0.3079,  1.0000,  ..., -0.3433,  0.4382,  0.1425],\n",
       "        ...,\n",
       "        [ 0.1344,  0.1010, -0.3433,  ...,  1.0000,  0.0452,  0.1415],\n",
       "        [ 0.4152,  0.1005,  0.4382,  ...,  0.0452,  1.0000,  0.1771],\n",
       "        [ 0.1767,  0.0557,  0.1425,  ...,  0.1415,  0.1771,  1.0000]])"
      ]
     },
     "execution_count": 8,
     "metadata": {},
     "output_type": "execute_result"
    }
   ],
   "source": [
    "sim_m"
   ]
  },
  {
   "cell_type": "code",
   "execution_count": 28,
   "metadata": {},
   "outputs": [],
   "source": [
    "from sklearn.cluster import SpectralClustering \n",
    "\n",
    "similarity_matrix_ = sim_m.cpu().numpy()\n",
    "labels_pred = SpectralClustering(n_clusters=10, affinity='precomputed', n_init=100, assign_labels='discretize').fit_predict((1+similarity_matrix_))"
   ]
  },
  {
   "cell_type": "code",
   "execution_count": 29,
   "metadata": {},
   "outputs": [
    {
     "data": {
      "text/plain": [
       "0.763"
      ]
     },
     "execution_count": 29,
     "metadata": {},
     "output_type": "execute_result"
    }
   ],
   "source": [
    "labels_pred, unsolicited_ratio = retrieve_info(labels_pred, y_data)\n",
    "unsolicited_ratio"
   ]
  },
  {
   "cell_type": "code",
   "execution_count": 30,
   "metadata": {},
   "outputs": [
    {
     "data": {
      "text/plain": [
       "array([9, 1, 6, 2, 3, 1, 0, 0, 1, 1, 3, 8, 0, 2, 6, 6, 6, 0, 2, 0, 2, 2,\n",
       "       0, 9, 8, 2, 8, 0, 0, 0, 8, 0, 6, 6, 2, 9, 2, 1, 0, 0, 0, 2, 6, 0,\n",
       "       0, 2, 0, 0, 1, 2, 9, 0, 0, 0, 0, 0, 2, 2, 2, 6, 8, 0, 0, 2, 2, 1,\n",
       "       9, 0, 0, 1, 1, 0, 0, 6, 9, 8, 9, 0, 0, 2, 3, 2, 0, 2, 0, 6, 9, 0,\n",
       "       9, 0, 0, 8, 0, 0, 8, 0, 6, 8, 2, 6, 0, 2, 0, 2, 0, 3, 2, 0, 1, 8,\n",
       "       0, 9, 0, 0, 8, 2, 0, 1, 6, 1, 0, 2, 2, 8, 3, 2, 3, 3, 2, 3, 8, 9,\n",
       "       0, 1, 0, 8, 3, 8, 2, 0, 2, 3, 9, 2, 3, 9, 9, 8, 1, 3, 1, 0, 0, 2,\n",
       "       8, 2, 0, 1, 0, 2, 1, 3, 3, 3, 0, 1, 0, 0, 1, 0, 9, 9, 6, 8, 6, 2,\n",
       "       2, 8, 0, 2, 2, 2, 0, 9, 3, 1, 0, 9, 8, 9, 2, 1, 9, 0, 8, 0, 9, 0,\n",
       "       8, 0, 9, 2, 3, 3, 0, 2, 2, 6, 9, 0, 0, 9, 8, 3, 3, 0, 9, 2, 8, 3,\n",
       "       0, 0, 9, 0, 6, 0, 3, 2, 6, 9, 2, 1, 2, 0, 8, 2, 2, 9, 2, 0, 2, 1,\n",
       "       0, 2, 8, 3, 0, 2, 0, 2, 0, 0, 0, 0, 0, 2, 0, 8, 2, 9, 1, 2, 3, 6,\n",
       "       2, 6, 2, 2, 0, 3, 2, 6, 9, 8, 2, 8, 8, 3, 9, 6, 2, 0, 0, 2, 2, 2,\n",
       "       2, 0, 6, 1, 6, 2, 0, 1, 0, 1, 9, 2, 6, 9, 0, 1, 9, 0, 0, 3, 0, 8,\n",
       "       6, 9, 8, 2, 0, 0, 0, 3, 3, 1, 0, 8, 3, 2, 2, 6, 2, 0, 9, 8, 1, 2,\n",
       "       2, 2, 6, 3, 3, 1, 3, 2, 0, 0, 0, 6, 0, 8, 2, 0, 0, 2, 0, 8, 1, 0,\n",
       "       6, 2, 3, 3, 8, 8, 3, 3, 0, 3, 8, 3, 6, 8, 8, 2, 8, 0, 2, 0, 6, 9,\n",
       "       6, 9, 0, 2, 0, 0, 2, 6, 9, 0, 0, 8, 0, 3, 0, 0, 0, 0, 0, 2, 0, 2,\n",
       "       0, 2, 3, 0, 2, 3, 2, 6, 0, 9, 0, 6, 3, 3, 8, 2, 3, 2, 0, 2, 6, 2,\n",
       "       8, 2, 0, 8, 2, 9, 6, 0, 8, 3, 0, 1, 2, 6, 1, 8, 3, 0, 0, 6, 0, 2,\n",
       "       2, 0, 8, 2, 1, 0, 0, 2, 9, 2, 1, 2, 3, 2, 8, 2, 9, 3, 6, 0, 1, 3,\n",
       "       0, 0, 1, 2, 8, 9, 0, 3, 2, 2, 0, 8, 0, 0, 3, 9, 1, 0, 6, 1, 6, 2,\n",
       "       3, 1, 3, 3, 6, 9, 1, 1, 2, 2, 6, 0, 2, 0, 0, 1, 2, 9, 2, 0, 0, 1,\n",
       "       0, 3, 6, 0, 0, 8, 3, 0, 2, 1, 2, 9, 6, 2, 3, 6, 2, 3, 8, 9, 6, 0,\n",
       "       9, 2, 1, 8, 2, 0, 2, 2, 6, 3, 0, 3, 0, 9, 0, 0, 9, 6, 2, 9, 0, 0,\n",
       "       1, 0, 0, 6, 0, 2, 8, 2, 2, 0, 0, 6, 0, 9, 2, 6, 2, 2, 3, 3, 0, 6,\n",
       "       6, 2, 8, 0, 0, 9, 0, 8, 6, 6, 0, 3, 0, 1, 6, 1, 1, 9, 0, 8, 0, 8,\n",
       "       0, 0, 2, 9, 1, 9, 6, 0, 3, 0, 1, 6, 3, 0, 0, 0, 0, 0, 0, 1, 9, 8,\n",
       "       0, 6, 9, 3, 0, 0, 6, 6, 6, 0, 0, 0, 2, 6, 1, 0, 0, 9, 0, 8, 9, 0,\n",
       "       6, 2, 9, 2, 8, 9, 3, 0, 8, 8, 3, 1, 2, 9, 0, 3, 0, 8, 8, 0, 1, 0,\n",
       "       0, 2, 2, 8, 9, 6, 0, 3, 0, 3, 0, 2, 2, 3, 0, 6, 3, 6, 2, 3, 2, 0,\n",
       "       3, 0, 2, 1, 2, 3, 6, 6, 6, 9, 0, 0, 8, 3, 0, 2, 1, 6, 8, 2, 2, 2,\n",
       "       0, 2, 9, 0, 0, 9, 6, 9, 9, 2, 2, 8, 0, 2, 9, 1, 6, 8, 1, 2, 0, 0,\n",
       "       2, 2, 8, 0, 8, 9, 0, 6, 0, 3, 0, 3, 1, 9, 2, 0, 8, 0, 3, 2, 2, 3,\n",
       "       2, 2, 3, 3, 6, 3, 2, 2, 9, 6, 2, 2, 9, 0, 0, 1, 2, 9, 2, 0, 1, 9,\n",
       "       0, 2, 0, 1, 8, 0, 0, 0, 9, 0, 2, 1, 8, 0, 2, 0, 3, 6, 0, 8, 0, 2,\n",
       "       1, 1, 0, 1, 0, 2, 2, 9, 8, 6, 6, 0, 3, 8, 1, 8, 6, 2, 8, 6, 0, 3,\n",
       "       6, 2, 0, 2, 0, 0, 8, 0, 0, 0, 6, 0, 9, 1, 0, 2, 0, 1, 2, 0, 0, 0,\n",
       "       1, 8, 1, 6, 2, 2, 0, 9, 0, 8, 3, 0, 1, 1, 0, 0, 8, 0, 1, 0, 1, 9,\n",
       "       0, 0, 9, 0, 9, 1, 0, 3, 3, 9, 3, 3, 6, 9, 0, 9, 8, 2, 2, 6, 0, 8,\n",
       "       3, 9, 8, 8, 2, 3, 0, 8, 0, 9, 3, 3, 1, 2, 0, 0, 6, 8, 8, 0, 0, 2,\n",
       "       2, 2, 0, 0, 6, 0, 0, 8, 0, 2, 6, 0, 3, 0, 9, 9, 3, 1, 3, 8, 0, 9,\n",
       "       2, 9, 0, 0, 9, 6, 2, 2, 2, 3, 0, 6, 9, 1, 9, 9, 9, 1, 8, 0, 0, 2,\n",
       "       2, 8, 2, 9, 9, 1, 2, 2, 0, 0, 9, 9, 2, 0, 9, 0, 9, 3, 3, 0, 6, 9,\n",
       "       9, 6, 0, 0, 2, 1, 2, 3, 0, 2, 6, 6, 2, 0, 6, 0, 0, 1, 6, 3, 2, 0,\n",
       "       6, 9, 2, 3, 0, 0, 0, 8, 2, 6])"
      ]
     },
     "execution_count": 30,
     "metadata": {},
     "output_type": "execute_result"
    }
   ],
   "source": [
    "labels_pred"
   ]
  },
  {
   "cell_type": "code",
   "execution_count": 21,
   "metadata": {},
   "outputs": [
    {
     "data": {
      "text/plain": [
       "tensor([0, 0, 0, 0, 0, 0, 0, 0, 0, 0, 0, 0, 0, 0, 0, 0, 0, 0, 0, 0, 0, 0, 0, 0,\n",
       "        0, 0, 0, 0, 0, 0, 0, 0, 0, 0, 0, 0, 0, 0, 0, 0, 0, 0, 0, 0, 0, 0, 0, 0,\n",
       "        0, 0, 0, 0, 0, 0, 0, 0, 0, 0, 0, 0, 0, 0, 0, 0, 0, 0, 0, 0, 0, 0, 0, 0,\n",
       "        0, 0, 0, 0, 0, 0, 0, 0, 0, 0, 0, 0, 0, 0, 0, 0, 0, 0, 0, 0, 0, 0, 0, 0,\n",
       "        0, 0, 0, 0, 1, 1, 1, 1, 1, 1, 1, 1, 1, 1, 1, 1, 1, 1, 1, 1, 1, 1, 1, 1,\n",
       "        1, 1, 1, 1, 1, 1, 1, 1, 1, 1, 1, 1, 1, 1, 1, 1, 1, 1, 1, 1, 1, 1, 1, 1,\n",
       "        1, 1, 1, 1, 1, 1, 1, 1, 1, 1, 1, 1, 1, 1, 1, 1, 1, 1, 1, 1, 1, 1, 1, 1,\n",
       "        1, 1, 1, 1, 1, 1, 1, 1, 1, 1, 1, 1, 1, 1, 1, 1, 1, 1, 1, 1, 1, 1, 1, 1,\n",
       "        1, 1, 1, 1, 1, 1, 1, 1, 2, 2, 2, 2, 2, 2, 2, 2, 2, 2, 2, 2, 2, 2, 2, 2,\n",
       "        2, 2, 2, 2, 2, 2, 2, 2, 2, 2, 2, 2, 2, 2, 2, 2, 2, 2, 2, 2, 2, 2, 2, 2,\n",
       "        2, 2, 2, 2, 2, 2, 2, 2, 2, 2, 2, 2, 2, 2, 2, 2, 2, 2, 2, 2, 2, 2, 2, 2,\n",
       "        2, 2, 2, 2, 2, 2, 2, 2, 2, 2, 2, 2, 2, 2, 2, 2, 2, 2, 2, 2, 2, 2, 2, 2,\n",
       "        2, 2, 2, 2, 2, 2, 2, 2, 2, 2, 2, 2, 3, 3, 3, 3, 3, 3, 3, 3, 3, 3, 3, 3,\n",
       "        3, 3, 3, 3, 3, 3, 3, 3, 3, 3, 3, 3, 3, 3, 3, 3, 3, 3, 3, 3, 3, 3, 3, 3,\n",
       "        3, 3, 3, 3, 3, 3, 3, 3, 3, 3, 3, 3, 3, 3, 3, 3, 3, 3, 3, 3, 3, 3, 3, 3,\n",
       "        3, 3, 3, 3, 3, 3, 3, 3, 3, 3, 3, 3, 3, 3, 3, 3, 3, 3, 3, 3, 3, 3, 3, 3,\n",
       "        3, 3, 3, 3, 3, 3, 3, 3, 3, 3, 3, 3, 3, 3, 3, 3, 4, 4, 4, 4, 4, 4, 4, 4,\n",
       "        4, 4, 4, 4, 4, 4, 4, 4, 4, 4, 4, 4, 4, 4, 4, 4, 4, 4, 4, 4, 4, 4, 4, 4,\n",
       "        4, 4, 4, 4, 4, 4, 4, 4, 4, 4, 4, 4, 4, 4, 4, 4, 4, 4, 4, 4, 4, 4, 4, 4,\n",
       "        4, 4, 4, 4, 4, 4, 4, 4, 4, 4, 4, 4, 4, 4, 4, 4, 4, 4, 4, 4, 4, 4, 4, 4,\n",
       "        4, 4, 4, 4, 4, 4, 4, 4, 4, 4, 4, 4, 4, 4, 4, 4, 4, 4, 4, 4, 5, 5, 5, 5,\n",
       "        5, 5, 5, 5, 5, 5, 5, 5, 5, 5, 5, 5, 5, 5, 5, 5, 5, 5, 5, 5, 5, 5, 5, 5,\n",
       "        5, 5, 5, 5, 5, 5, 5, 5, 5, 5, 5, 5, 5, 5, 5, 5, 5, 5, 5, 5, 5, 5, 5, 5,\n",
       "        5, 5, 5, 5, 5, 5, 5, 5, 5, 5, 5, 5, 5, 5, 5, 5, 5, 5, 5, 5, 5, 5, 5, 5,\n",
       "        5, 5, 5, 5, 5, 5, 5, 5, 5, 5, 5, 5, 5, 5, 5, 5, 5, 5, 5, 5, 5, 5, 5, 5,\n",
       "        6, 6, 6, 6, 6, 6, 6, 6, 6, 6, 6, 6, 6, 6, 6, 6, 6, 6, 6, 6, 6, 6, 6, 6,\n",
       "        6, 6, 6, 6, 6, 6, 6, 6, 6, 6, 6, 6, 6, 6, 6, 6, 6, 6, 6, 6, 6, 6, 6, 6,\n",
       "        6, 6, 6, 6, 6, 6, 6, 6, 6, 6, 6, 6, 6, 6, 6, 6, 6, 6, 6, 6, 6, 6, 6, 6,\n",
       "        6, 6, 6, 6, 6, 6, 6, 6, 6, 6, 6, 6, 6, 6, 6, 6, 6, 6, 6, 6, 6, 6, 6, 6,\n",
       "        6, 6, 6, 6, 7, 7, 7, 7, 7, 7, 7, 7, 7, 7, 7, 7, 7, 7, 7, 7, 7, 7, 7, 7,\n",
       "        7, 7, 7, 7, 7, 7, 7, 7, 7, 7, 7, 7, 7, 7, 7, 7, 7, 7, 7, 7, 7, 7, 7, 7,\n",
       "        7, 7, 7, 7, 7, 7, 7, 7, 7, 7, 7, 7, 7, 7, 7, 7, 7, 7, 7, 7, 7, 7, 7, 7,\n",
       "        7, 7, 7, 7, 7, 7, 7, 7, 7, 7, 7, 7, 7, 7, 7, 7, 7, 7, 7, 7, 7, 7, 7, 7,\n",
       "        7, 7, 7, 7, 7, 7, 7, 7, 8, 8, 8, 8, 8, 8, 8, 8, 8, 8, 8, 8, 8, 8, 8, 8,\n",
       "        8, 8, 8, 8, 8, 8, 8, 8, 8, 8, 8, 8, 8, 8, 8, 8, 8, 8, 8, 8, 8, 8, 8, 8,\n",
       "        8, 8, 8, 8, 8, 8, 8, 8, 8, 8, 8, 8, 8, 8, 8, 8, 8, 8, 8, 8, 8, 8, 8, 8,\n",
       "        8, 8, 8, 8, 8, 8, 8, 8, 8, 8, 8, 8, 8, 8, 8, 8, 8, 8, 8, 8, 8, 8, 8, 8,\n",
       "        8, 8, 8, 8, 8, 8, 8, 8, 8, 8, 8, 8, 9, 9, 9, 9, 9, 9, 9, 9, 9, 9, 9, 9,\n",
       "        9, 9, 9, 9, 9, 9, 9, 9, 9, 9, 9, 9, 9, 9, 9, 9, 9, 9, 9, 9, 9, 9, 9, 9,\n",
       "        9, 9, 9, 9, 9, 9, 9, 9, 9, 9, 9, 9, 9, 9, 9, 9, 9, 9, 9, 9, 9, 9, 9, 9,\n",
       "        9, 9, 9, 9, 9, 9, 9, 9, 9, 9, 9, 9, 9, 9, 9, 9, 9, 9, 9, 9, 9, 9, 9, 9,\n",
       "        9, 9, 9, 9, 9, 9, 9, 9, 9, 9, 9, 9, 9, 9, 9, 9])"
      ]
     },
     "execution_count": 21,
     "metadata": {},
     "output_type": "execute_result"
    }
   ],
   "source": [
    "y_data_proper"
   ]
  },
  {
   "cell_type": "code",
   "execution_count": 30,
   "metadata": {},
   "outputs": [
    {
     "data": {
      "text/plain": [
       "0.237"
      ]
     },
     "execution_count": 30,
     "metadata": {},
     "output_type": "execute_result"
    }
   ],
   "source": [
    "acc = (labels_pred == y_data_proper.numpy()).astype(float).sum() / y_data_proper.shape[0]\n",
    "acc"
   ]
  },
  {
   "cell_type": "code",
   "execution_count": 25,
   "metadata": {},
   "outputs": [
    {
     "data": {
      "text/plain": [
       "array([ True, False, False,  True, False,  True, False, False,  True,\n",
       "        True, False, False,  True,  True, False, False, False, False,\n",
       "        True, False, False, False,  True, False, False, False,  True,\n",
       "       False,  True, False,  True, False,  True,  True, False,  True,\n",
       "       False, False, False,  True, False,  True,  True, False,  True,\n",
       "       False, False, False, False, False, False,  True,  True, False,\n",
       "        True, False, False,  True, False,  True, False,  True, False,\n",
       "       False, False, False, False, False,  True, False,  True, False,\n",
       "        True, False,  True, False,  True, False, False, False, False,\n",
       "       False,  True, False, False,  True, False,  True, False,  True,\n",
       "       False, False,  True,  True, False,  True, False, False, False,\n",
       "        True,  True,  True,  True, False, False, False,  True, False,\n",
       "        True, False, False, False, False,  True, False, False,  True,\n",
       "       False,  True, False, False, False,  True, False,  True, False,\n",
       "        True,  True, False,  True, False, False, False,  True, False,\n",
       "        True, False, False,  True, False, False, False,  True, False,\n",
       "        True, False, False,  True,  True, False, False, False,  True,\n",
       "       False, False,  True,  True,  True, False, False, False, False,\n",
       "        True, False, False, False,  True,  True, False, False, False,\n",
       "       False,  True,  True, False, False,  True,  True, False, False,\n",
       "       False, False, False,  True, False, False, False, False, False,\n",
       "        True, False, False,  True,  True, False,  True, False, False,\n",
       "        True, False, False, False, False, False, False, False, False,\n",
       "       False, False, False, False, False, False, False, False, False,\n",
       "       False, False, False, False, False, False, False, False, False,\n",
       "       False, False, False, False, False, False, False, False, False,\n",
       "       False, False, False, False, False, False, False, False, False,\n",
       "       False, False, False, False, False, False, False, False, False,\n",
       "       False, False, False, False, False, False, False, False, False,\n",
       "       False, False, False, False, False, False, False, False, False,\n",
       "       False, False, False, False, False, False, False, False, False,\n",
       "       False, False, False, False, False, False, False, False, False,\n",
       "       False, False, False, False, False, False, False, False, False,\n",
       "       False, False, False, False, False, False, False,  True, False,\n",
       "       False, False, False, False,  True,  True, False, False, False,\n",
       "        True, False, False, False,  True,  True, False, False, False,\n",
       "       False, False, False, False,  True, False, False, False, False,\n",
       "       False, False, False, False, False,  True, False, False, False,\n",
       "       False,  True,  True, False, False, False,  True,  True, False,\n",
       "       False, False, False, False, False, False,  True, False, False,\n",
       "       False, False, False, False, False, False,  True, False, False,\n",
       "       False, False, False, False, False, False, False, False, False,\n",
       "       False, False, False, False, False, False, False, False,  True,\n",
       "       False,  True, False, False, False, False,  True, False, False,\n",
       "       False, False, False, False,  True, False,  True,  True, False,\n",
       "        True,  True, False,  True,  True, False, False, False, False,\n",
       "        True, False, False, False,  True, False, False,  True, False,\n",
       "       False, False, False, False, False, False,  True,  True, False,\n",
       "        True,  True, False, False,  True, False, False,  True, False,\n",
       "       False, False, False, False, False,  True,  True,  True, False,\n",
       "       False, False,  True, False,  True, False,  True,  True, False,\n",
       "       False, False,  True,  True,  True, False, False, False, False,\n",
       "        True,  True,  True, False, False, False,  True, False, False,\n",
       "       False,  True,  True,  True, False, False, False, False,  True,\n",
       "       False,  True,  True, False, False, False, False, False, False,\n",
       "       False, False,  True, False,  True,  True,  True,  True, False,\n",
       "       False, False, False,  True, False, False, False, False, False,\n",
       "        True, False,  True, False, False, False, False, False,  True,\n",
       "       False, False,  True, False, False, False, False, False, False,\n",
       "        True, False,  True,  True,  True, False, False, False, False,\n",
       "       False, False, False, False, False, False,  True, False, False,\n",
       "        True, False, False, False, False, False, False, False, False,\n",
       "        True, False, False,  True, False,  True, False, False, False,\n",
       "       False, False,  True,  True,  True, False, False, False,  True,\n",
       "        True,  True, False, False, False,  True, False, False, False,\n",
       "        True, False,  True, False, False, False, False,  True, False,\n",
       "       False,  True, False, False, False, False, False, False, False,\n",
       "       False,  True,  True, False,  True,  True, False, False, False,\n",
       "        True, False,  True, False, False, False, False, False, False,\n",
       "        True,  True,  True,  True, False, False,  True,  True,  True,\n",
       "       False,  True, False,  True,  True, False, False,  True,  True,\n",
       "        True,  True,  True, False, False, False, False,  True, False,\n",
       "       False, False, False,  True,  True,  True, False,  True, False,\n",
       "       False,  True, False,  True, False, False,  True, False, False,\n",
       "       False, False, False, False, False, False,  True,  True,  True,\n",
       "       False, False, False, False, False, False, False,  True, False,\n",
       "        True, False, False,  True,  True,  True, False, False,  True,\n",
       "        True,  True,  True,  True, False, False, False, False, False,\n",
       "       False, False, False, False,  True, False, False, False, False,\n",
       "        True, False, False, False, False, False, False,  True, False,\n",
       "        True, False, False,  True, False, False, False, False, False,\n",
       "       False, False, False, False,  True,  True,  True, False, False,\n",
       "       False, False, False, False,  True, False, False, False, False,\n",
       "        True, False,  True, False, False, False, False, False, False,\n",
       "       False, False, False, False, False, False, False,  True, False,\n",
       "       False, False, False, False, False, False, False, False, False,\n",
       "       False, False, False, False, False,  True, False, False, False,\n",
       "        True,  True, False, False, False, False, False,  True, False,\n",
       "       False, False, False,  True, False, False, False,  True,  True,\n",
       "        True,  True, False,  True,  True,  True, False,  True, False,\n",
       "       False, False, False,  True, False, False, False, False, False,\n",
       "       False, False, False, False,  True,  True,  True, False,  True,\n",
       "        True, False, False,  True, False, False, False,  True, False,\n",
       "       False,  True, False,  True, False, False, False, False,  True,\n",
       "        True, False, False,  True, False,  True,  True, False, False,\n",
       "       False,  True,  True, False, False, False, False,  True, False,\n",
       "       False,  True, False, False,  True,  True, False, False, False,\n",
       "        True, False, False,  True, False, False,  True, False, False,\n",
       "       False,  True, False,  True, False, False, False, False,  True,\n",
       "        True, False, False,  True, False, False, False, False,  True,\n",
       "       False, False, False,  True, False, False, False, False,  True,\n",
       "       False, False, False, False, False,  True, False,  True,  True,\n",
       "        True, False, False, False, False,  True, False, False, False,\n",
       "        True, False,  True, False, False,  True, False,  True, False,\n",
       "       False, False, False, False, False, False, False, False, False,\n",
       "       False, False, False,  True, False,  True, False, False, False,\n",
       "       False, False, False, False,  True, False,  True,  True, False,\n",
       "       False, False,  True,  True,  True, False, False, False, False,\n",
       "       False, False, False, False, False,  True, False, False, False,\n",
       "       False, False, False, False,  True,  True, False,  True, False,\n",
       "       False, False,  True, False,  True, False, False, False, False,\n",
       "       False])"
      ]
     },
     "execution_count": 25,
     "metadata": {},
     "output_type": "execute_result"
    }
   ],
   "source": [
    "(labels_pred == y_data_proper.numpy())"
   ]
  },
  {
   "cell_type": "code",
   "execution_count": null,
   "metadata": {},
   "outputs": [],
   "source": []
  }
 ],
 "metadata": {
  "kernelspec": {
   "display_name": "fp2",
   "language": "python",
   "name": "python3"
  },
  "language_info": {
   "codemirror_mode": {
    "name": "ipython",
    "version": 3
   },
   "file_extension": ".py",
   "mimetype": "text/x-python",
   "name": "python",
   "nbconvert_exporter": "python",
   "pygments_lexer": "ipython3",
   "version": "3.10.10"
  },
  "orig_nbformat": 4
 },
 "nbformat": 4,
 "nbformat_minor": 2
}
